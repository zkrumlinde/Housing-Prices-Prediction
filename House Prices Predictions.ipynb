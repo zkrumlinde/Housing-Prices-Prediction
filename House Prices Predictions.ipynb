{
 "cells": [
  {
   "cell_type": "code",
   "execution_count": 1,
   "metadata": {},
   "outputs": [
    {
     "name": "stdout",
     "output_type": "stream",
     "text": [
      "/Users/genevieveberent/Desktop/Zak_Portfolio/house_prices/all\n"
     ]
    }
   ],
   "source": [
    "%cd /Users/genevieveberent/Desktop/Zak_Portfolio/house_prices/all"
   ]
  },
  {
   "cell_type": "code",
   "execution_count": 2,
   "metadata": {
    "collapsed": true
   },
   "outputs": [],
   "source": [
    "import pandas as pd\n",
    "import numpy as np\n",
    "import matplotlib.pyplot as plt\n",
    "import seaborn as sns\n",
    "import scipy"
   ]
  },
  {
   "cell_type": "markdown",
   "metadata": {},
   "source": [
    "## Import\n",
    "Import both the training and testing data, then combine them to eliminate missing data together and to create dummy variables (this will ensure all dummy variable categories are created for each)."
   ]
  },
  {
   "cell_type": "code",
   "execution_count": 3,
   "metadata": {
    "collapsed": true
   },
   "outputs": [],
   "source": [
    "training = pd.read_csv('train.csv')\n",
    "testing = pd.read_csv('test.csv')\n",
    "all_data = pd.concat([training, testing], ignore_index = True)"
   ]
  },
  {
   "cell_type": "code",
   "execution_count": 4,
   "metadata": {},
   "outputs": [
    {
     "data": {
      "text/html": [
       "<div>\n",
       "<style>\n",
       "    .dataframe thead tr:only-child th {\n",
       "        text-align: right;\n",
       "    }\n",
       "\n",
       "    .dataframe thead th {\n",
       "        text-align: left;\n",
       "    }\n",
       "\n",
       "    .dataframe tbody tr th {\n",
       "        vertical-align: top;\n",
       "    }\n",
       "</style>\n",
       "<table border=\"1\" class=\"dataframe\">\n",
       "  <thead>\n",
       "    <tr style=\"text-align: right;\">\n",
       "      <th></th>\n",
       "      <th>1stFlrSF</th>\n",
       "      <th>2ndFlrSF</th>\n",
       "      <th>3SsnPorch</th>\n",
       "      <th>Alley</th>\n",
       "      <th>BedroomAbvGr</th>\n",
       "      <th>BldgType</th>\n",
       "      <th>BsmtCond</th>\n",
       "      <th>BsmtExposure</th>\n",
       "      <th>BsmtFinSF1</th>\n",
       "      <th>BsmtFinSF2</th>\n",
       "      <th>...</th>\n",
       "      <th>SaleType</th>\n",
       "      <th>ScreenPorch</th>\n",
       "      <th>Street</th>\n",
       "      <th>TotRmsAbvGrd</th>\n",
       "      <th>TotalBsmtSF</th>\n",
       "      <th>Utilities</th>\n",
       "      <th>WoodDeckSF</th>\n",
       "      <th>YearBuilt</th>\n",
       "      <th>YearRemodAdd</th>\n",
       "      <th>YrSold</th>\n",
       "    </tr>\n",
       "  </thead>\n",
       "  <tbody>\n",
       "    <tr>\n",
       "      <th>0</th>\n",
       "      <td>856</td>\n",
       "      <td>854</td>\n",
       "      <td>0</td>\n",
       "      <td>NaN</td>\n",
       "      <td>3</td>\n",
       "      <td>1Fam</td>\n",
       "      <td>TA</td>\n",
       "      <td>No</td>\n",
       "      <td>706.0</td>\n",
       "      <td>0.0</td>\n",
       "      <td>...</td>\n",
       "      <td>WD</td>\n",
       "      <td>0</td>\n",
       "      <td>Pave</td>\n",
       "      <td>8</td>\n",
       "      <td>856.0</td>\n",
       "      <td>AllPub</td>\n",
       "      <td>0</td>\n",
       "      <td>2003</td>\n",
       "      <td>2003</td>\n",
       "      <td>2008</td>\n",
       "    </tr>\n",
       "    <tr>\n",
       "      <th>1</th>\n",
       "      <td>1262</td>\n",
       "      <td>0</td>\n",
       "      <td>0</td>\n",
       "      <td>NaN</td>\n",
       "      <td>3</td>\n",
       "      <td>1Fam</td>\n",
       "      <td>TA</td>\n",
       "      <td>Gd</td>\n",
       "      <td>978.0</td>\n",
       "      <td>0.0</td>\n",
       "      <td>...</td>\n",
       "      <td>WD</td>\n",
       "      <td>0</td>\n",
       "      <td>Pave</td>\n",
       "      <td>6</td>\n",
       "      <td>1262.0</td>\n",
       "      <td>AllPub</td>\n",
       "      <td>298</td>\n",
       "      <td>1976</td>\n",
       "      <td>1976</td>\n",
       "      <td>2007</td>\n",
       "    </tr>\n",
       "    <tr>\n",
       "      <th>2</th>\n",
       "      <td>920</td>\n",
       "      <td>866</td>\n",
       "      <td>0</td>\n",
       "      <td>NaN</td>\n",
       "      <td>3</td>\n",
       "      <td>1Fam</td>\n",
       "      <td>TA</td>\n",
       "      <td>Mn</td>\n",
       "      <td>486.0</td>\n",
       "      <td>0.0</td>\n",
       "      <td>...</td>\n",
       "      <td>WD</td>\n",
       "      <td>0</td>\n",
       "      <td>Pave</td>\n",
       "      <td>6</td>\n",
       "      <td>920.0</td>\n",
       "      <td>AllPub</td>\n",
       "      <td>0</td>\n",
       "      <td>2001</td>\n",
       "      <td>2002</td>\n",
       "      <td>2008</td>\n",
       "    </tr>\n",
       "    <tr>\n",
       "      <th>3</th>\n",
       "      <td>961</td>\n",
       "      <td>756</td>\n",
       "      <td>0</td>\n",
       "      <td>NaN</td>\n",
       "      <td>3</td>\n",
       "      <td>1Fam</td>\n",
       "      <td>Gd</td>\n",
       "      <td>No</td>\n",
       "      <td>216.0</td>\n",
       "      <td>0.0</td>\n",
       "      <td>...</td>\n",
       "      <td>WD</td>\n",
       "      <td>0</td>\n",
       "      <td>Pave</td>\n",
       "      <td>7</td>\n",
       "      <td>756.0</td>\n",
       "      <td>AllPub</td>\n",
       "      <td>0</td>\n",
       "      <td>1915</td>\n",
       "      <td>1970</td>\n",
       "      <td>2006</td>\n",
       "    </tr>\n",
       "    <tr>\n",
       "      <th>4</th>\n",
       "      <td>1145</td>\n",
       "      <td>1053</td>\n",
       "      <td>0</td>\n",
       "      <td>NaN</td>\n",
       "      <td>4</td>\n",
       "      <td>1Fam</td>\n",
       "      <td>TA</td>\n",
       "      <td>Av</td>\n",
       "      <td>655.0</td>\n",
       "      <td>0.0</td>\n",
       "      <td>...</td>\n",
       "      <td>WD</td>\n",
       "      <td>0</td>\n",
       "      <td>Pave</td>\n",
       "      <td>9</td>\n",
       "      <td>1145.0</td>\n",
       "      <td>AllPub</td>\n",
       "      <td>192</td>\n",
       "      <td>2000</td>\n",
       "      <td>2000</td>\n",
       "      <td>2008</td>\n",
       "    </tr>\n",
       "  </tbody>\n",
       "</table>\n",
       "<p>5 rows × 81 columns</p>\n",
       "</div>"
      ],
      "text/plain": [
       "   1stFlrSF  2ndFlrSF  3SsnPorch Alley  BedroomAbvGr BldgType BsmtCond  \\\n",
       "0       856       854          0   NaN             3     1Fam       TA   \n",
       "1      1262         0          0   NaN             3     1Fam       TA   \n",
       "2       920       866          0   NaN             3     1Fam       TA   \n",
       "3       961       756          0   NaN             3     1Fam       Gd   \n",
       "4      1145      1053          0   NaN             4     1Fam       TA   \n",
       "\n",
       "  BsmtExposure  BsmtFinSF1  BsmtFinSF2  ...   SaleType ScreenPorch  Street  \\\n",
       "0           No       706.0         0.0  ...         WD           0    Pave   \n",
       "1           Gd       978.0         0.0  ...         WD           0    Pave   \n",
       "2           Mn       486.0         0.0  ...         WD           0    Pave   \n",
       "3           No       216.0         0.0  ...         WD           0    Pave   \n",
       "4           Av       655.0         0.0  ...         WD           0    Pave   \n",
       "\n",
       "   TotRmsAbvGrd TotalBsmtSF  Utilities WoodDeckSF YearBuilt YearRemodAdd  \\\n",
       "0             8       856.0     AllPub          0      2003         2003   \n",
       "1             6      1262.0     AllPub        298      1976         1976   \n",
       "2             6       920.0     AllPub          0      2001         2002   \n",
       "3             7       756.0     AllPub          0      1915         1970   \n",
       "4             9      1145.0     AllPub        192      2000         2000   \n",
       "\n",
       "  YrSold  \n",
       "0   2008  \n",
       "1   2007  \n",
       "2   2008  \n",
       "3   2006  \n",
       "4   2008  \n",
       "\n",
       "[5 rows x 81 columns]"
      ]
     },
     "execution_count": 4,
     "metadata": {},
     "output_type": "execute_result"
    }
   ],
   "source": [
    "all_data.head()"
   ]
  },
  {
   "cell_type": "markdown",
   "metadata": {},
   "source": [
    "## Missing Data\n",
    "First things first, dealing with the missing data.  "
   ]
  },
  {
   "cell_type": "code",
   "execution_count": 5,
   "metadata": {},
   "outputs": [
    {
     "name": "stdout",
     "output_type": "stream",
     "text": [
      "PoolQC          99.657417\n",
      "MiscFeature     96.402878\n",
      "Alley           93.216855\n",
      "Fence           80.438506\n",
      "SalePrice       49.982871\n",
      "FireplaceQu     48.646797\n",
      "LotFrontage     16.649538\n",
      "GarageFinish     5.447071\n",
      "GarageCond       5.447071\n",
      "GarageQual       5.447071\n",
      "GarageYrBlt      5.447071\n",
      "GarageType       5.378554\n",
      "BsmtCond         2.809181\n",
      "BsmtExposure     2.809181\n",
      "BsmtQual         2.774923\n",
      "BsmtFinType2     2.740665\n",
      "BsmtFinType1     2.706406\n",
      "MasVnrType       0.822199\n",
      "MasVnrArea       0.787941\n",
      "MSZoning         0.137033\n",
      "BsmtFullBath     0.068517\n",
      "BsmtHalfBath     0.068517\n",
      "Utilities        0.068517\n",
      "Functional       0.068517\n",
      "Electrical       0.034258\n",
      "Exterior2nd      0.034258\n",
      "KitchenQual      0.034258\n",
      "Exterior1st      0.034258\n",
      "GarageCars       0.034258\n",
      "TotalBsmtSF      0.034258\n",
      "GarageArea       0.034258\n",
      "BsmtUnfSF        0.034258\n",
      "BsmtFinSF2       0.034258\n",
      "BsmtFinSF1       0.034258\n",
      "SaleType         0.034258\n",
      "dtype: float64\n"
     ]
    }
   ],
   "source": [
    "#Find how much missind data there is.\n",
    "mis_val_percent = (100 * all_data.isnull().sum() / len(all_data)).sort_values(ascending = False)\n",
    "print(mis_val_percent[mis_val_percent > 0])"
   ]
  },
  {
   "cell_type": "code",
   "execution_count": 6,
   "metadata": {
    "collapsed": true
   },
   "outputs": [],
   "source": [
    "#With such a large percentage missing from some columns, I am going to drop the top 5 columns.\n",
    "#Be careful, SalePrice is missing so much due to the fact that the test set does not include the SalePrice\n",
    "all_data = all_data.drop(['PoolQC', 'MiscFeature', 'Alley', 'Fence', 'FireplaceQu'], axis = 1)"
   ]
  },
  {
   "cell_type": "markdown",
   "metadata": {},
   "source": [
    "## Filling Missing Data"
   ]
  },
  {
   "cell_type": "code",
   "execution_count": 7,
   "metadata": {
    "collapsed": true
   },
   "outputs": [],
   "source": [
    "#LotFrontage\n",
    "#It seems common that lots are all fairly similar in each neighborhood.  \n",
    "#Fill all the missing data with the mean of the LotFrontage of the neighborhood the house is in\n",
    "\n",
    "all_data['LotFrontage'] = all_data.groupby('Neighborhood')['LotFrontage'].transform(lambda x: x.fillna(x.mean()))"
   ]
  },
  {
   "cell_type": "code",
   "execution_count": 8,
   "metadata": {
    "collapsed": true
   },
   "outputs": [],
   "source": [
    "#NA for Garage info means there is no garage, replace 'NA' with 'None'\n",
    "all_data['GarageFinish'] = all_data['GarageFinish'].fillna('None')\n",
    "all_data['GarageCond'] = all_data['GarageCond'].fillna('None')\n",
    "all_data['GarageQual'] = all_data['GarageQual'].fillna('None')\n",
    "all_data['GarageType'] = all_data['GarageType'].fillna('None')"
   ]
  },
  {
   "cell_type": "code",
   "execution_count": 9,
   "metadata": {
    "collapsed": true
   },
   "outputs": [],
   "source": [
    "#Similar to garage info, 'NA' for basement columns, represents 'No Basement'\n",
    "#For Basement Bath info, filling with 0\n",
    "all_data['BsmtCond'] = all_data['BsmtCond'].fillna('None')\n",
    "all_data['BsmtExposure'] = all_data['BsmtExposure'].fillna('None')\n",
    "all_data['BsmtFinType1'] = all_data['BsmtFinType1'].fillna('None')\n",
    "all_data['BsmtFinType2'] = all_data['BsmtFinType2'].fillna('None')\n",
    "all_data['BsmtQual'] = all_data['BsmtQual'].fillna('None')\n",
    "all_data['BsmtFullBath'] = all_data['BsmtFullBath'].fillna(0)\n",
    "all_data['BsmtHalfBath'] = all_data['BsmtHalfBath'].fillna(0)"
   ]
  },
  {
   "cell_type": "code",
   "execution_count": 10,
   "metadata": {
    "collapsed": true
   },
   "outputs": [],
   "source": [
    "#'NA' for Masonry will be filled with 'None' while the area, since none, will be filled with 0.\n",
    "all_data['MasVnrType'] = all_data['MasVnrType'].fillna('None')\n",
    "all_data['MasVnrArea'] = all_data['MasVnrArea'].fillna(0)"
   ]
  },
  {
   "cell_type": "code",
   "execution_count": 11,
   "metadata": {},
   "outputs": [
    {
     "data": {
      "text/plain": [
       "RL         2265\n",
       "RM          460\n",
       "FV          139\n",
       "RH           26\n",
       "C (all)      25\n",
       "Name: MSZoning, dtype: int64"
      ]
     },
     "execution_count": 11,
     "metadata": {},
     "output_type": "execute_result"
    }
   ],
   "source": [
    "#MSZoning will be filled with the most common MSZoning in the neighborhood of the missing values.\n",
    "all_data['MSZoning'].value_counts().sort_values(ascending = False)"
   ]
  },
  {
   "cell_type": "code",
   "execution_count": 12,
   "metadata": {},
   "outputs": [
    {
     "data": {
      "text/plain": [
       "1915     IDOTRR\n",
       "2216     IDOTRR\n",
       "2250     IDOTRR\n",
       "2904    Mitchel\n",
       "Name: Neighborhood, dtype: object"
      ]
     },
     "execution_count": 12,
     "metadata": {},
     "output_type": "execute_result"
    }
   ],
   "source": [
    "all_data[all_data['MSZoning'].isnull()]['Neighborhood']"
   ]
  },
  {
   "cell_type": "code",
   "execution_count": 13,
   "metadata": {},
   "outputs": [
    {
     "data": {
      "text/plain": [
       "RM         68\n",
       "C (all)    22\n",
       "Name: MSZoning, dtype: int64"
      ]
     },
     "execution_count": 13,
     "metadata": {},
     "output_type": "execute_result"
    }
   ],
   "source": [
    "all_data[all_data['Neighborhood'] == 'IDOTRR']['MSZoning'].value_counts().sort_values(ascending = False)"
   ]
  },
  {
   "cell_type": "code",
   "execution_count": 14,
   "metadata": {},
   "outputs": [
    {
     "data": {
      "text/plain": [
       "RL    104\n",
       "RM      9\n",
       "Name: MSZoning, dtype: int64"
      ]
     },
     "execution_count": 14,
     "metadata": {},
     "output_type": "execute_result"
    }
   ],
   "source": [
    "all_data[all_data['Neighborhood'] == 'Mitchel']['MSZoning'].value_counts().sort_values(ascending = False)"
   ]
  },
  {
   "cell_type": "code",
   "execution_count": 15,
   "metadata": {
    "collapsed": true
   },
   "outputs": [],
   "source": [
    "all_data.loc[all_data['Neighborhood'] == 'IDOTRR', 'MSZoning'] = all_data.loc[all_data['Neighborhood'] == 'IDOTRR', 'MSZoning'].fillna('RM')\n",
    "all_data.loc[all_data['Neighborhood'] == 'Mitchel', 'MSZoning'] = all_data.loc[all_data['Neighborhood'] == 'Mitchel', 'MSZoning'].fillna('RL')"
   ]
  },
  {
   "cell_type": "code",
   "execution_count": 16,
   "metadata": {
    "collapsed": true
   },
   "outputs": [],
   "source": [
    "#That took way longer than it should have for 4 missing values, but the lesson learned was great!"
   ]
  },
  {
   "cell_type": "code",
   "execution_count": 17,
   "metadata": {},
   "outputs": [
    {
     "data": {
      "text/plain": [
       "AllPub    2916\n",
       "NoSeWa       1\n",
       "Name: Utilities, dtype: int64"
      ]
     },
     "execution_count": 17,
     "metadata": {},
     "output_type": "execute_result"
    }
   ],
   "source": [
    "#Utilities\n",
    "all_data['Utilities'].value_counts().sort_values(ascending = False)"
   ]
  },
  {
   "cell_type": "code",
   "execution_count": 18,
   "metadata": {
    "collapsed": true
   },
   "outputs": [],
   "source": [
    "#All but one case are 'AllPub', going to stick with the trend\n",
    "all_data['Utilities'] = all_data['Utilities'].fillna('AllPub')"
   ]
  },
  {
   "cell_type": "code",
   "execution_count": 19,
   "metadata": {
    "collapsed": true
   },
   "outputs": [],
   "source": [
    "#Functional, data description states assume normal unless otherwise stated\n",
    "all_data['Functional'] = all_data['Functional'].fillna('Typ')"
   ]
  },
  {
   "cell_type": "code",
   "execution_count": 20,
   "metadata": {},
   "outputs": [
    {
     "data": {
      "text/plain": [
       "SBrkr    2671\n",
       "FuseA     188\n",
       "FuseF      50\n",
       "FuseP       8\n",
       "Mix         1\n",
       "Name: Electrical, dtype: int64"
      ]
     },
     "execution_count": 20,
     "metadata": {},
     "output_type": "execute_result"
    }
   ],
   "source": [
    "#Electrical, the vast majority are 'SBrkr'\n",
    "all_data['Electrical'].value_counts().sort_values(ascending = False)"
   ]
  },
  {
   "cell_type": "code",
   "execution_count": 21,
   "metadata": {
    "collapsed": true
   },
   "outputs": [],
   "source": [
    "all_data['Electrical'] = all_data['Electrical'].fillna('SBrkr')"
   ]
  },
  {
   "cell_type": "code",
   "execution_count": 22,
   "metadata": {},
   "outputs": [
    {
     "data": {
      "text/html": [
       "<div>\n",
       "<style>\n",
       "    .dataframe thead tr:only-child th {\n",
       "        text-align: right;\n",
       "    }\n",
       "\n",
       "    .dataframe thead th {\n",
       "        text-align: left;\n",
       "    }\n",
       "\n",
       "    .dataframe tbody tr th {\n",
       "        vertical-align: top;\n",
       "    }\n",
       "</style>\n",
       "<table border=\"1\" class=\"dataframe\">\n",
       "  <thead>\n",
       "    <tr style=\"text-align: right;\">\n",
       "      <th></th>\n",
       "      <th>Exterior2nd</th>\n",
       "      <th>Neighborhood</th>\n",
       "    </tr>\n",
       "  </thead>\n",
       "  <tbody>\n",
       "    <tr>\n",
       "      <th>2151</th>\n",
       "      <td>NaN</td>\n",
       "      <td>Edwards</td>\n",
       "    </tr>\n",
       "  </tbody>\n",
       "</table>\n",
       "</div>"
      ],
      "text/plain": [
       "     Exterior2nd Neighborhood\n",
       "2151         NaN      Edwards"
      ]
     },
     "execution_count": 22,
     "metadata": {},
     "output_type": "execute_result"
    }
   ],
   "source": [
    "#Exterior1st and Exterior2nd\n",
    "#The null values for Exterior1st and Exterior2nd are the same observation\n",
    "all_data[all_data['Exterior1st'].isnull()][['Exterior2nd', 'Neighborhood']]"
   ]
  },
  {
   "cell_type": "code",
   "execution_count": 23,
   "metadata": {},
   "outputs": [
    {
     "data": {
      "text/plain": [
       "Wd Sdng    45\n",
       "VinylSd    38\n",
       "MetalSd    37\n",
       "HdBoard    21\n",
       "Plywood    16\n",
       "WdShing    13\n",
       "AsbShng     7\n",
       "Stucco      6\n",
       "BrkFace     4\n",
       "CemntBd     3\n",
       "BrkComm     2\n",
       "AsphShn     1\n",
       "Name: Exterior1st, dtype: int64"
      ]
     },
     "execution_count": 23,
     "metadata": {},
     "output_type": "execute_result"
    }
   ],
   "source": [
    "all_data[all_data['Neighborhood'] == 'Edwards']['Exterior1st'].value_counts().sort_values(ascending= False)"
   ]
  },
  {
   "cell_type": "code",
   "execution_count": 24,
   "metadata": {},
   "outputs": [
    {
     "data": {
      "text/plain": [
       "Wd Sdng    48\n",
       "VinylSd    38\n",
       "MetalSd    35\n",
       "Plywood    30\n",
       "HdBoard    15\n",
       "Wd Shng    10\n",
       "Stucco      7\n",
       "AsbShng     4\n",
       "CmentBd     3\n",
       "Brk Cmn     2\n",
       "AsphShn     1\n",
       "Name: Exterior2nd, dtype: int64"
      ]
     },
     "execution_count": 24,
     "metadata": {},
     "output_type": "execute_result"
    }
   ],
   "source": [
    "all_data[all_data['Neighborhood'] == 'Edwards']['Exterior2nd'].value_counts().sort_values(ascending= False)"
   ]
  },
  {
   "cell_type": "code",
   "execution_count": 25,
   "metadata": {
    "collapsed": true
   },
   "outputs": [],
   "source": [
    "#Houses in the same neighbor tend to be built pretty similar.\n",
    "#The null value comes from the Edwards neighborhood where 'Wd Sdng' is the most popular\n",
    "all_data['Exterior1st'] = all_data['Exterior1st'].fillna('Wd Sdng')\n",
    "all_data['Exterior2nd'] = all_data['Exterior2nd'].fillna('Wd Sdng')"
   ]
  },
  {
   "cell_type": "code",
   "execution_count": 26,
   "metadata": {
    "collapsed": true
   },
   "outputs": [],
   "source": [
    "#KitchenQual is only missing one observation as well, fill with the most popular\n",
    "all_data['KitchenQual'] = all_data['KitchenQual'].fillna(all_data['KitchenQual'].mode()[0])"
   ]
  },
  {
   "cell_type": "code",
   "execution_count": 27,
   "metadata": {},
   "outputs": [
    {
     "data": {
      "text/plain": [
       "2576   NaN\n",
       "Name: GarageArea, dtype: float64"
      ]
     },
     "execution_count": 27,
     "metadata": {},
     "output_type": "execute_result"
    }
   ],
   "source": [
    "#GarageCars\n",
    "#Upon looking at the null observation, the GarageArea is also null\n",
    "#No garage means no cars\n",
    "all_data[all_data['GarageCars'].isnull()]['GarageArea']"
   ]
  },
  {
   "cell_type": "code",
   "execution_count": 28,
   "metadata": {
    "collapsed": true
   },
   "outputs": [],
   "source": [
    "all_data['GarageCars'] = all_data['GarageCars'].fillna(0)\n",
    "all_data['GarageArea'] = all_data['GarageArea'].fillna(0)"
   ]
  },
  {
   "cell_type": "code",
   "execution_count": 29,
   "metadata": {},
   "outputs": [
    {
     "data": {
      "text/html": [
       "<div>\n",
       "<style>\n",
       "    .dataframe thead tr:only-child th {\n",
       "        text-align: right;\n",
       "    }\n",
       "\n",
       "    .dataframe thead th {\n",
       "        text-align: left;\n",
       "    }\n",
       "\n",
       "    .dataframe tbody tr th {\n",
       "        vertical-align: top;\n",
       "    }\n",
       "</style>\n",
       "<table border=\"1\" class=\"dataframe\">\n",
       "  <thead>\n",
       "    <tr style=\"text-align: right;\">\n",
       "      <th></th>\n",
       "      <th>BsmtUnfSF</th>\n",
       "      <th>BsmtFinSF2</th>\n",
       "      <th>TotalBsmtSF</th>\n",
       "    </tr>\n",
       "  </thead>\n",
       "  <tbody>\n",
       "    <tr>\n",
       "      <th>2120</th>\n",
       "      <td>NaN</td>\n",
       "      <td>NaN</td>\n",
       "      <td>NaN</td>\n",
       "    </tr>\n",
       "  </tbody>\n",
       "</table>\n",
       "</div>"
      ],
      "text/plain": [
       "      BsmtUnfSF  BsmtFinSF2  TotalBsmtSF\n",
       "2120        NaN         NaN          NaN"
      ]
     },
     "execution_count": 29,
     "metadata": {},
     "output_type": "execute_result"
    }
   ],
   "source": [
    "#Taking a look at the remaining missing basement data\n",
    "all_data[all_data['BsmtFinSF1'].isnull()][['BsmtUnfSF', 'BsmtFinSF2', 'TotalBsmtSF']]"
   ]
  },
  {
   "cell_type": "code",
   "execution_count": 30,
   "metadata": {
    "collapsed": true
   },
   "outputs": [],
   "source": [
    "#With all the basement columns null, there is no basement\n",
    "all_data['BsmtUnfSF'] = all_data['BsmtUnfSF'].fillna(0)\n",
    "all_data['BsmtFinSF1'] = all_data['BsmtFinSF1'].fillna(0)\n",
    "all_data['BsmtFinSF2'] = all_data['BsmtFinSF2'].fillna(0)\n",
    "all_data['TotalBsmtSF'] = all_data['TotalBsmtSF'].fillna(0)"
   ]
  },
  {
   "cell_type": "code",
   "execution_count": 31,
   "metadata": {},
   "outputs": [
    {
     "data": {
      "text/plain": [
       "WD     2525\n",
       "New     239\n",
       "COD      87\n",
       "Name: SaleType, dtype: int64"
      ]
     },
     "execution_count": 31,
     "metadata": {},
     "output_type": "execute_result"
    }
   ],
   "source": [
    "#SaleType\n",
    "all_data['SaleType'].value_counts().sort_values(ascending = False).head(3)"
   ]
  },
  {
   "cell_type": "code",
   "execution_count": 32,
   "metadata": {
    "collapsed": true
   },
   "outputs": [],
   "source": [
    "#WD is by far the most popular 'SaleType'\n",
    "all_data['SaleType'] = all_data['SaleType'].fillna(all_data['SaleType'].mode()[0])"
   ]
  },
  {
   "cell_type": "code",
   "execution_count": 33,
   "metadata": {
    "collapsed": true
   },
   "outputs": [],
   "source": [
    "#GarageYrBlt is throwing me for a loop, this most likely means that there isn't a garage.\n",
    "#Since the data is a year, inputting 0 would skew this data very much and could lead to \n",
    "#correlations not being accurate\n",
    "## Filling null values with same year the house was built.\n",
    "all_data['GarageYrBlt'] = all_data['GarageYrBlt'].fillna(all_data['YearBuilt'])"
   ]
  },
  {
   "cell_type": "code",
   "execution_count": 34,
   "metadata": {},
   "outputs": [
    {
     "name": "stdout",
     "output_type": "stream",
     "text": [
      "SalePrice    49.982871\n",
      "dtype: float64\n"
     ]
    }
   ],
   "source": [
    "## Double Check that there is no more missing values\n",
    "## The SalePrice is due to the test set not having that column\n",
    "mis_val_percent = (100 * all_data.isnull().sum() / len(all_data)).sort_values(ascending = False)\n",
    "print(mis_val_percent[mis_val_percent > 0])"
   ]
  },
  {
   "cell_type": "markdown",
   "metadata": {},
   "source": [
    "# Dummy Variables\n",
    "With so many variables that are categorical, we need to create dummy variables to be able to represent them numerically."
   ]
  },
  {
   "cell_type": "code",
   "execution_count": 35,
   "metadata": {
    "collapsed": true
   },
   "outputs": [],
   "source": [
    "all_data = pd.get_dummies(all_data)"
   ]
  },
  {
   "cell_type": "code",
   "execution_count": 36,
   "metadata": {},
   "outputs": [
    {
     "name": "stdout",
     "output_type": "stream",
     "text": [
      "Size Before Dummy Variables (Just training):  (1460, 81)\n",
      "Size After Dummy Variables:  (2919, 281)\n"
     ]
    }
   ],
   "source": [
    "print('Size Before Dummy Variables (Just training): ', training.shape)\n",
    "print('Size After Dummy Variables: ', all_data.shape)"
   ]
  },
  {
   "cell_type": "markdown",
   "metadata": {},
   "source": [
    "There went from 81 columns to 281 columns."
   ]
  },
  {
   "cell_type": "markdown",
   "metadata": {},
   "source": [
    "# Train and Test Set\n",
    "Now that all the missing data is taken care of and the the number of columns is same (due to the dummy variables), we need to split the data back into the training and testing data.  We can do this because we know that the test set does not have the 'SalePrice' column."
   ]
  },
  {
   "cell_type": "code",
   "execution_count": 37,
   "metadata": {
    "collapsed": true
   },
   "outputs": [],
   "source": [
    "training = all_data.loc[all_data['SalePrice'].notnull()]\n",
    "testing = all_data.loc[all_data['SalePrice'].isnull()]"
   ]
  },
  {
   "cell_type": "markdown",
   "metadata": {},
   "source": [
    "# Dependent Variable\n",
    "We have the assumption that the dependent variable is normally distributed.  If this is not the case, a data transformation will be needed.  There are multiple ways that we can check the normality of the dependent variable."
   ]
  },
  {
   "cell_type": "code",
   "execution_count": 38,
   "metadata": {},
   "outputs": [
    {
     "data": {
      "text/plain": [
       "1.8828757597682129"
      ]
     },
     "execution_count": 38,
     "metadata": {},
     "output_type": "execute_result"
    }
   ],
   "source": [
    "# A skew of 0 represents a normal distribution.\n",
    "# 'SalePrice' has a positive skew, shown by the skew > 0.\n",
    "training['SalePrice'].skew()"
   ]
  },
  {
   "cell_type": "code",
   "execution_count": 39,
   "metadata": {},
   "outputs": [
    {
     "data": {
      "image/png": "[encoded data removed]",
      "text/plain": [
       "<matplotlib.figure.Figure at 0x119719e10>"
      ]
     },
     "metadata": {},
     "output_type": "display_data"
    }
   ],
   "source": [
    "#Visually we can see the positive skew by the tail on the right of the histogram\n",
    "plt.hist(training['SalePrice'])\n",
    "plt.show()"
   ]
  },
  {
   "cell_type": "code",
   "execution_count": 40,
   "metadata": {},
   "outputs": [
    {
     "data": {
      "text/plain": [
       "(0.869671642780304, 3.206247534576162e-33)"
      ]
     },
     "execution_count": 40,
     "metadata": {},
     "output_type": "execute_result"
    }
   ],
   "source": [
    "#Check normality of the dependent variable\n",
    "#Base on the p-value (less than 0.05), we can assume the data is not normally distributed\n",
    "scipy.stats.shapiro(training['SalePrice'])"
   ]
  },
  {
   "cell_type": "code",
   "execution_count": 41,
   "metadata": {},
   "outputs": [
    {
     "name": "stdout",
     "output_type": "stream",
     "text": [
      "The skew of the square root is 0.943152737331\n",
      "The skew of the cube root is 0.66676764644\n",
      "The skew of the log is 0.121335062205\n"
     ]
    }
   ],
   "source": [
    "#A transformation should be done on the 'SalePrice' to attempt to bring it closer to noraml\n",
    "#Some methods for a positive skew are square root, cube root and log transformations.\n",
    "\n",
    "SalePrice_sqrt = training['SalePrice'] ** (1/2)\n",
    "SalePrice_cubert = training['SalePrice'] ** (1/3)\n",
    "SalePrice_log = np.log(training['SalePrice'])\n",
    "\n",
    "print('The skew of the square root is', SalePrice_sqrt.skew())\n",
    "print('The skew of the cube root is', SalePrice_cubert.skew())\n",
    "print('The skew of the log is', SalePrice_log.skew())"
   ]
  },
  {
   "cell_type": "code",
   "execution_count": 42,
   "metadata": {},
   "outputs": [
    {
     "name": "stderr",
     "output_type": "stream",
     "text": [
      "/Users/genevieveberent/anaconda/lib/python3.6/site-packages/ipykernel_launcher.py:3: SettingWithCopyWarning: \n",
      "A value is trying to be set on a copy of a slice from a DataFrame.\n",
      "Try using .loc[row_indexer,col_indexer] = value instead\n",
      "\n",
      "See the caveats in the documentation: http://pandas.pydata.org/pandas-docs/stable/indexing.html#indexing-view-versus-copy\n",
      "  This is separate from the ipykernel package so we can avoid doing imports until\n"
     ]
    }
   ],
   "source": [
    "#All the transformations increased the normality, \n",
    "#however the log transformation is the closest to 0\n",
    "training['SalePrice(log)'] = SalePrice_log"
   ]
  },
  {
   "cell_type": "code",
   "execution_count": 43,
   "metadata": {},
   "outputs": [
    {
     "data": {
      "image/png": "[encoded data removed]",
      "text/plain": [
       "<matplotlib.figure.Figure at 0x119dba518>"
      ]
     },
     "metadata": {},
     "output_type": "display_data"
    }
   ],
   "source": [
    "#The distribution of the log transformation\n",
    "plt.hist(training['SalePrice(log)'])\n",
    "plt.show()"
   ]
  },
  {
   "cell_type": "markdown",
   "metadata": {
    "collapsed": true
   },
   "source": [
    "# Predict with a Lasso Regression Model"
   ]
  },
  {
   "cell_type": "code",
   "execution_count": 44,
   "metadata": {
    "collapsed": true
   },
   "outputs": [],
   "source": [
    "from sklearn.linear_model import Lasso"
   ]
  },
  {
   "cell_type": "code",
   "execution_count": 45,
   "metadata": {
    "collapsed": true
   },
   "outputs": [],
   "source": [
    "#Set the training independent and dependent variables\n",
    "train_x = training.drop(['SalePrice', 'SalePrice(log)'], axis = 1)\n",
    "train_y = training['SalePrice(log)']"
   ]
  },
  {
   "cell_type": "code",
   "execution_count": null,
   "metadata": {},
   "outputs": [],
   "source": []
  },
  {
   "cell_type": "code",
   "execution_count": 63,
   "metadata": {},
   "outputs": [],
   "source": [
    "testing = testing.drop('Predictions', axis = 1)"
   ]
  },
  {
   "cell_type": "code",
   "execution_count": 64,
   "metadata": {},
   "outputs": [
    {
     "name": "stdout",
     "output_type": "stream",
     "text": [
      "[  0.00000000e+00   0.00000000e+00   0.00000000e+00   0.00000000e+00\n",
      "   5.13240225e-05   0.00000000e+00   2.47946991e-02   0.00000000e+00\n",
      "  -0.00000000e+00   0.00000000e+00   2.55665678e-02   9.46502249e-03\n",
      "   9.90056217e-05   2.96728639e-02   0.00000000e+00   2.41346512e-04\n",
      "   8.26225981e-03  -0.00000000e+00  -3.21175647e-02   1.39590344e-06\n",
      "   3.16492566e-04  -0.00000000e+00  -0.00000000e+00   0.00000000e+00\n",
      "  -0.00000000e+00  -0.00000000e+00   2.21492725e-05   3.25265975e-02\n",
      "   5.73090665e-02   0.00000000e+00   1.79048078e-04   2.12707262e-03\n",
      "   9.19069905e-05   7.57678955e-05   1.42494199e-03   8.87553757e-04\n",
      "  -0.00000000e+00   2.71236126e-02   0.00000000e+00  -0.00000000e+00\n",
      "  -3.62391076e-02  -0.00000000e+00  -1.34915097e-02   0.00000000e+00\n",
      "  -0.00000000e+00  -0.00000000e+00   0.00000000e+00   0.00000000e+00\n",
      "   3.57644209e-02   0.00000000e+00  -8.26158280e-03  -0.00000000e+00\n",
      "   0.00000000e+00   0.00000000e+00   8.80947013e-03  -0.00000000e+00\n",
      "  -0.00000000e+00  -0.00000000e+00  -3.16746562e-03   1.96386182e-03\n",
      "  -9.09442753e-03   0.00000000e+00   0.00000000e+00  -0.00000000e+00\n",
      "   0.00000000e+00   0.00000000e+00   3.18567380e-02  -0.00000000e+00\n",
      "   0.00000000e+00  -0.00000000e+00  -1.11883586e-03  -5.25055656e-02\n",
      "   4.82994723e-16  -2.59880134e-02  -0.00000000e+00   2.96011212e-02\n",
      "  -0.00000000e+00   0.00000000e+00  -3.43960128e-02   0.00000000e+00\n",
      "  -0.00000000e+00   0.00000000e+00  -0.00000000e+00   0.00000000e+00\n",
      "   0.00000000e+00   3.63245639e-02  -7.39627781e-01  -0.00000000e+00\n",
      "  -0.00000000e+00  -0.00000000e+00   0.00000000e+00   0.00000000e+00\n",
      "  -0.00000000e+00  -0.00000000e+00  -0.00000000e+00   0.00000000e+00\n",
      "  -1.49955277e-02  -0.00000000e+00  -0.00000000e+00   4.60586703e-03\n",
      "   0.00000000e+00  -0.00000000e+00   0.00000000e+00  -4.68812873e-03\n",
      "  -0.00000000e+00  -0.00000000e+00  -1.29647349e-01   5.15613106e-02\n",
      "  -0.00000000e+00   0.00000000e+00  -4.72249940e-03   0.00000000e+00\n",
      "   2.28996875e-03  -0.00000000e+00   0.00000000e+00  -0.00000000e+00\n",
      "   0.00000000e+00  -8.66857489e-03  -0.00000000e+00  -0.00000000e+00\n",
      "   0.00000000e+00  -0.00000000e+00  -0.00000000e+00  -0.00000000e+00\n",
      "   0.00000000e+00  -0.00000000e+00   0.00000000e+00   0.00000000e+00\n",
      "  -0.00000000e+00  -0.00000000e+00  -0.00000000e+00  -0.00000000e+00\n",
      "   0.00000000e+00  -0.00000000e+00  -0.00000000e+00  -0.00000000e+00\n",
      "  -0.00000000e+00   2.37942469e-02  -0.00000000e+00   2.18270052e-02\n",
      "  -2.45870079e-02  -9.51332901e-03  -1.76135148e-01   0.00000000e+00\n",
      "   0.00000000e+00  -2.88193149e-02  -1.66396005e-01   4.05507665e-02\n",
      "   0.00000000e+00  -2.01739909e-02   0.00000000e+00  -1.81502057e-02\n",
      "   0.00000000e+00   0.00000000e+00   0.00000000e+00  -1.04716704e-16\n",
      "   0.00000000e+00  -2.62170820e-03   1.97686595e-03  -1.32916717e-02\n",
      "   9.80601606e-03  -1.41823523e-03   0.00000000e+00   0.00000000e+00\n",
      "  -2.36663929e-02   9.79451026e-03  -0.00000000e+00   0.00000000e+00\n",
      "  -0.00000000e+00  -0.00000000e+00  -4.54646776e-05  -0.00000000e+00\n",
      "  -0.00000000e+00   3.26790245e-02  -1.05861446e-01  -0.00000000e+00\n",
      "   0.00000000e+00   2.13142927e-02  -0.00000000e+00   0.00000000e+00\n",
      "  -0.00000000e+00  -6.19918651e-03   0.00000000e+00   0.00000000e+00\n",
      "  -0.00000000e+00  -1.43028801e-02   0.00000000e+00  -0.00000000e+00\n",
      "  -0.00000000e+00   0.00000000e+00   4.93590035e-02  -0.00000000e+00\n",
      "   0.00000000e+00  -3.62739964e-03  -8.79256904e-03   0.00000000e+00\n",
      "   0.00000000e+00   0.00000000e+00  -0.00000000e+00   2.76358266e-03\n",
      "  -8.25299966e-04   0.00000000e+00   2.90881231e-02  -0.00000000e+00\n",
      "  -0.00000000e+00  -0.00000000e+00   0.00000000e+00   1.11096125e-02\n",
      "  -0.00000000e+00  -0.00000000e+00  -3.51669476e-01   2.09899980e-03\n",
      "  -0.00000000e+00   0.00000000e+00  -5.67666952e-02  -6.55167136e-03\n",
      "   0.00000000e+00  -0.00000000e+00   0.00000000e+00  -0.00000000e+00\n",
      "  -0.00000000e+00  -1.13156705e-02   1.25580012e-02   2.05578314e-02\n",
      "   0.00000000e+00   1.07321950e-01  -3.22530236e-02   0.00000000e+00\n",
      "  -0.00000000e+00  -7.89179599e-02  -9.03689719e-03  -0.00000000e+00\n",
      "  -0.00000000e+00  -0.00000000e+00   1.78874041e-02   5.76658202e-02\n",
      "  -5.86444765e-03  -0.00000000e+00  -0.00000000e+00  -0.00000000e+00\n",
      "   3.11168560e-02   8.56533081e-02   0.00000000e+00   1.57589799e-02\n",
      "  -0.00000000e+00  -0.00000000e+00   8.44657994e-03  -2.44238594e+00\n",
      "  -0.00000000e+00   3.51378207e-02   0.00000000e+00   0.00000000e+00\n",
      "   0.00000000e+00   0.00000000e+00   1.79223188e-02   0.00000000e+00\n",
      "  -0.00000000e+00  -0.00000000e+00   0.00000000e+00   0.00000000e+00\n",
      "   0.00000000e+00  -6.01174556e-02   0.00000000e+00  -0.00000000e+00\n",
      "  -3.41688742e-02   0.00000000e+00   0.00000000e+00  -0.00000000e+00\n",
      "   0.00000000e+00   0.00000000e+00   2.39424411e-02  -0.00000000e+00\n",
      "   0.00000000e+00   3.24039641e-02   0.00000000e+00  -1.21177338e-02\n",
      "  -2.84947536e-03   2.95217560e-16   0.00000000e+00  -0.00000000e+00]\n"
     ]
    }
   ],
   "source": [
    "lasso = Lasso(alpha = .0001, normalize = True)\n",
    "lasso.fit(train_x, train_y)\n",
    "lasso_coef = lasso.coef_\n",
    "print(lasso_coef)"
   ]
  },
  {
   "cell_type": "code",
   "execution_count": 65,
   "metadata": {},
   "outputs": [],
   "source": [
    "predictions = lasso.predict(testing)"
   ]
  },
  {
   "cell_type": "code",
   "execution_count": 66,
   "metadata": {},
   "outputs": [
    {
     "data": {
      "text/plain": [
       "array([ 11.72210642,  11.93747037,  12.08002036, ...,  12.02170941,\n",
       "        11.67371136,  12.33471788])"
      ]
     },
     "execution_count": 66,
     "metadata": {},
     "output_type": "execute_result"
    }
   ],
   "source": [
    "predictions"
   ]
  },
  {
   "cell_type": "code",
   "execution_count": 67,
   "metadata": {
    "collapsed": true
   },
   "outputs": [],
   "source": [
    "testing['Predictions'] = np.e ** predictions"
   ]
  },
  {
   "cell_type": "code",
   "execution_count": 68,
   "metadata": {
    "collapsed": true
   },
   "outputs": [],
   "source": [
    "prediction_df = testing[['Id', 'Predictions']]\n",
    "prediction_df.columns = ['Id', 'SalePrice']"
   ]
  },
  {
   "cell_type": "code",
   "execution_count": 69,
   "metadata": {},
   "outputs": [
    {
     "data": {
      "text/html": [
       "<div>\n",
       "<style>\n",
       "    .dataframe thead tr:only-child th {\n",
       "        text-align: right;\n",
       "    }\n",
       "\n",
       "    .dataframe thead th {\n",
       "        text-align: left;\n",
       "    }\n",
       "\n",
       "    .dataframe tbody tr th {\n",
       "        vertical-align: top;\n",
       "    }\n",
       "</style>\n",
       "<table border=\"1\" class=\"dataframe\">\n",
       "  <thead>\n",
       "    <tr style=\"text-align: right;\">\n",
       "      <th></th>\n",
       "      <th>Id</th>\n",
       "      <th>SalePrice</th>\n",
       "    </tr>\n",
       "  </thead>\n",
       "  <tbody>\n",
       "    <tr>\n",
       "      <th>1460</th>\n",
       "      <td>1461</td>\n",
       "      <td>123266.804175</td>\n",
       "    </tr>\n",
       "    <tr>\n",
       "      <th>1461</th>\n",
       "      <td>1462</td>\n",
       "      <td>152889.446385</td>\n",
       "    </tr>\n",
       "    <tr>\n",
       "      <th>1462</th>\n",
       "      <td>1463</td>\n",
       "      <td>176313.749991</td>\n",
       "    </tr>\n",
       "    <tr>\n",
       "      <th>1463</th>\n",
       "      <td>1464</td>\n",
       "      <td>196274.997850</td>\n",
       "    </tr>\n",
       "    <tr>\n",
       "      <th>1464</th>\n",
       "      <td>1465</td>\n",
       "      <td>196854.612383</td>\n",
       "    </tr>\n",
       "  </tbody>\n",
       "</table>\n",
       "</div>"
      ],
      "text/plain": [
       "        Id      SalePrice\n",
       "1460  1461  123266.804175\n",
       "1461  1462  152889.446385\n",
       "1462  1463  176313.749991\n",
       "1463  1464  196274.997850\n",
       "1464  1465  196854.612383"
      ]
     },
     "execution_count": 69,
     "metadata": {},
     "output_type": "execute_result"
    }
   ],
   "source": [
    "prediction_df.head()"
   ]
  },
  {
   "cell_type": "code",
   "execution_count": 70,
   "metadata": {
    "collapsed": true
   },
   "outputs": [],
   "source": [
    "prediction_df.to_csv('Housing_Predictions_7.csv', index=False)"
   ]
  },
  {
   "cell_type": "code",
   "execution_count": null,
   "metadata": {
    "collapsed": true
   },
   "outputs": [],
   "source": []
  },
  {
   "cell_type": "code",
   "execution_count": null,
   "metadata": {},
   "outputs": [],
   "source": []
  },
  {
   "cell_type": "code",
   "execution_count": null,
   "metadata": {
    "collapsed": true
   },
   "outputs": [],
   "source": []
  },
  {
   "cell_type": "code",
   "execution_count": null,
   "metadata": {
    "collapsed": true
   },
   "outputs": [],
   "source": []
  }
 ],
 "metadata": {
  "kernelspec": {
   "display_name": "Python 3",
   "language": "python",
   "name": "python3"
  },
  "language_info": {
   "codemirror_mode": {
    "name": "ipython",
    "version": 3
   },
   "file_extension": ".py",
   "mimetype": "text/x-python",
   "name": "python",
   "nbconvert_exporter": "python",
   "pygments_lexer": "ipython3",
   "version": "3.6.5"
  }
 },
 "nbformat": 4,
 "nbformat_minor": 2
}
